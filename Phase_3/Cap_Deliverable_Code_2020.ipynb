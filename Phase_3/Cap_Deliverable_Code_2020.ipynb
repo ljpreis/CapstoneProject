{
  "nbformat": 4,
  "nbformat_minor": 0,
  "metadata": {
    "colab": {
      "name": "Cap Deliverable Code 2020.ipynb",
      "provenance": [],
      "collapsed_sections": []
    },
    "kernelspec": {
      "name": "python3",
      "display_name": "Python 3"
    }
  },
  "cells": [
    {
      "cell_type": "code",
      "metadata": {
        "id": "D555jpXsFfPJ",
        "colab": {
          "base_uri": "https://localhost:8080/"
        },
        "outputId": "298a754f-771b-466d-947f-406ca939bab1"
      },
      "source": [
        "pip install xgboost"
      ],
      "execution_count": null,
      "outputs": [
        {
          "output_type": "stream",
          "text": [
            "Requirement already satisfied: xgboost in /usr/local/lib/python3.6/dist-packages (0.90)\n",
            "Requirement already satisfied: scipy in /usr/local/lib/python3.6/dist-packages (from xgboost) (1.4.1)\n",
            "Requirement already satisfied: numpy in /usr/local/lib/python3.6/dist-packages (from xgboost) (1.18.5)\n"
          ],
          "name": "stdout"
        }
      ]
    },
    {
      "cell_type": "code",
      "metadata": {
        "id": "oypnSWyYGBUY"
      },
      "source": [
        "#data preprocessing\n",
        "import pandas as pd\n",
        "#produces a prediction model in the form of an ensemble of weak prediction models, typically decision tree\n",
        "import xgboost as xgb\n",
        "#the outcome (dependent variable) has only a limited number of possible values. \n",
        "#Logistic Regression is used when response variable is categorical in nature.\n",
        "from sklearn.linear_model import LogisticRegression\n",
        "#A random forest is a meta estimator that fits a number of decision tree classifiers \n",
        "#on various sub-samples of the dataset and use averaging to improve the predictive \n",
        "#accuracy and control over-fitting.\n",
        "from sklearn.ensemble import RandomForestClassifier\n",
        "#a discriminative classifier formally defined by a separating hyperplane.\n",
        "from sklearn.svm import SVC\n",
        "#displayd data\n",
        "from IPython.display import display\n",
        "%matplotlib inline\n"
      ],
      "execution_count": null,
      "outputs": []
    },
    {
      "cell_type": "code",
      "metadata": {
        "id": "ryOWbWWrGOCH"
      },
      "source": [
        "data = pd.read_csv('Cleaning 2018 - 2020.csv')"
      ],
      "execution_count": null,
      "outputs": []
    },
    {
      "cell_type": "code",
      "metadata": {
        "id": "mqtOKoi1GPDu",
        "colab": {
          "base_uri": "https://localhost:8080/",
          "height": 275
        },
        "outputId": "eb3a5de3-192a-4102-caee-8f9551264b58"
      },
      "source": [
        "display(data.head())"
      ],
      "execution_count": null,
      "outputs": [
        {
          "output_type": "display_data",
          "data": {
            "text/html": [
              "<div>\n",
              "<style scoped>\n",
              "    .dataframe tbody tr th:only-of-type {\n",
              "        vertical-align: middle;\n",
              "    }\n",
              "\n",
              "    .dataframe tbody tr th {\n",
              "        vertical-align: top;\n",
              "    }\n",
              "\n",
              "    .dataframe thead th {\n",
              "        text-align: right;\n",
              "    }\n",
              "</style>\n",
              "<table border=\"1\" class=\"dataframe\">\n",
              "  <thead>\n",
              "    <tr style=\"text-align: right;\">\n",
              "      <th></th>\n",
              "      <th>Div</th>\n",
              "      <th>Date</th>\n",
              "      <th>HomeTeam</th>\n",
              "      <th>AwayTeam</th>\n",
              "      <th>FTHG</th>\n",
              "      <th>FTAG</th>\n",
              "      <th>FTR</th>\n",
              "      <th>HST</th>\n",
              "      <th>AST</th>\n",
              "      <th>HF</th>\n",
              "      <th>AF</th>\n",
              "      <th>Average FTHG</th>\n",
              "      <th>Averager FTHGC</th>\n",
              "      <th>AverageFTAG</th>\n",
              "      <th>AverageFTAGC</th>\n",
              "      <th>HTGRA</th>\n",
              "      <th>HTGCRA</th>\n",
              "      <th>ATGRA</th>\n",
              "      <th>ATGCRA</th>\n",
              "      <th>AverageHTGRA</th>\n",
              "      <th>AverageHTGCRA</th>\n",
              "      <th>AverageATGRA</th>\n",
              "      <th>AverageATGCRA</th>\n",
              "    </tr>\n",
              "  </thead>\n",
              "  <tbody>\n",
              "    <tr>\n",
              "      <th>0</th>\n",
              "      <td>E0</td>\n",
              "      <td>12/09/2020</td>\n",
              "      <td>Fulham</td>\n",
              "      <td>Arsenal</td>\n",
              "      <td>0</td>\n",
              "      <td>3</td>\n",
              "      <td>A</td>\n",
              "      <td>2</td>\n",
              "      <td>6</td>\n",
              "      <td>12</td>\n",
              "      <td>12</td>\n",
              "      <td>0.0</td>\n",
              "      <td>3.0</td>\n",
              "      <td>3.0</td>\n",
              "      <td>0.0</td>\n",
              "      <td>0.0</td>\n",
              "      <td>0.0</td>\n",
              "      <td>0.0</td>\n",
              "      <td>0.0</td>\n",
              "      <td>0.0</td>\n",
              "      <td>0.0</td>\n",
              "      <td>0.0</td>\n",
              "      <td>0.0</td>\n",
              "    </tr>\n",
              "    <tr>\n",
              "      <th>1</th>\n",
              "      <td>E0</td>\n",
              "      <td>12/09/2020</td>\n",
              "      <td>Crystal Palace</td>\n",
              "      <td>Southampton</td>\n",
              "      <td>1</td>\n",
              "      <td>0</td>\n",
              "      <td>H</td>\n",
              "      <td>3</td>\n",
              "      <td>5</td>\n",
              "      <td>14</td>\n",
              "      <td>11</td>\n",
              "      <td>1.0</td>\n",
              "      <td>0.0</td>\n",
              "      <td>0.0</td>\n",
              "      <td>1.0</td>\n",
              "      <td>0.0</td>\n",
              "      <td>0.0</td>\n",
              "      <td>0.0</td>\n",
              "      <td>0.0</td>\n",
              "      <td>0.0</td>\n",
              "      <td>0.0</td>\n",
              "      <td>0.0</td>\n",
              "      <td>0.0</td>\n",
              "    </tr>\n",
              "    <tr>\n",
              "      <th>2</th>\n",
              "      <td>E0</td>\n",
              "      <td>12/09/2020</td>\n",
              "      <td>Liverpool</td>\n",
              "      <td>Leeds</td>\n",
              "      <td>4</td>\n",
              "      <td>3</td>\n",
              "      <td>H</td>\n",
              "      <td>6</td>\n",
              "      <td>3</td>\n",
              "      <td>9</td>\n",
              "      <td>6</td>\n",
              "      <td>4.0</td>\n",
              "      <td>3.0</td>\n",
              "      <td>3.0</td>\n",
              "      <td>4.0</td>\n",
              "      <td>0.0</td>\n",
              "      <td>0.0</td>\n",
              "      <td>0.0</td>\n",
              "      <td>0.0</td>\n",
              "      <td>0.0</td>\n",
              "      <td>0.0</td>\n",
              "      <td>0.0</td>\n",
              "      <td>0.0</td>\n",
              "    </tr>\n",
              "    <tr>\n",
              "      <th>3</th>\n",
              "      <td>E0</td>\n",
              "      <td>12/09/2020</td>\n",
              "      <td>West Ham</td>\n",
              "      <td>Newcastle</td>\n",
              "      <td>0</td>\n",
              "      <td>2</td>\n",
              "      <td>A</td>\n",
              "      <td>3</td>\n",
              "      <td>2</td>\n",
              "      <td>13</td>\n",
              "      <td>7</td>\n",
              "      <td>0.0</td>\n",
              "      <td>2.0</td>\n",
              "      <td>2.0</td>\n",
              "      <td>0.0</td>\n",
              "      <td>0.0</td>\n",
              "      <td>0.0</td>\n",
              "      <td>0.0</td>\n",
              "      <td>0.0</td>\n",
              "      <td>0.0</td>\n",
              "      <td>0.0</td>\n",
              "      <td>0.0</td>\n",
              "      <td>0.0</td>\n",
              "    </tr>\n",
              "    <tr>\n",
              "      <th>4</th>\n",
              "      <td>E0</td>\n",
              "      <td>13/09/2020</td>\n",
              "      <td>West Brom</td>\n",
              "      <td>Leicester</td>\n",
              "      <td>0</td>\n",
              "      <td>3</td>\n",
              "      <td>A</td>\n",
              "      <td>1</td>\n",
              "      <td>7</td>\n",
              "      <td>12</td>\n",
              "      <td>9</td>\n",
              "      <td>0.0</td>\n",
              "      <td>3.0</td>\n",
              "      <td>3.0</td>\n",
              "      <td>0.0</td>\n",
              "      <td>0.0</td>\n",
              "      <td>0.0</td>\n",
              "      <td>0.0</td>\n",
              "      <td>0.0</td>\n",
              "      <td>0.0</td>\n",
              "      <td>0.0</td>\n",
              "      <td>0.0</td>\n",
              "      <td>0.0</td>\n",
              "    </tr>\n",
              "  </tbody>\n",
              "</table>\n",
              "</div>"
            ],
            "text/plain": [
              "  Div        Date        HomeTeam  ... AverageHTGCRA  AverageATGRA  AverageATGCRA\n",
              "0  E0  12/09/2020          Fulham  ...           0.0           0.0            0.0\n",
              "1  E0  12/09/2020  Crystal Palace  ...           0.0           0.0            0.0\n",
              "2  E0  12/09/2020       Liverpool  ...           0.0           0.0            0.0\n",
              "3  E0  12/09/2020        West Ham  ...           0.0           0.0            0.0\n",
              "4  E0  13/09/2020       West Brom  ...           0.0           0.0            0.0\n",
              "\n",
              "[5 rows x 23 columns]"
            ]
          },
          "metadata": {
            "tags": []
          }
        }
      ]
    },
    {
      "cell_type": "code",
      "metadata": {
        "id": "91h2nSahGRn2"
      },
      "source": [
        "del data['Div']\n",
        "del data['Date']\n",
        "del data['HomeTeam']\n",
        "del data['AwayTeam']\n",
        "del data['FTHG']\n",
        "del data['FTAG']\n",
        "del data['HST']\n",
        "del data['AST']\n",
        "del data['HF']\n",
        "del data['AF']\n",
        "del data['Average FTHG']\n",
        "del data['Averager FTHGC']\n",
        "del data['AverageFTAG']\n",
        "del data['AverageFTAGC']\n",
        "del data['HTGRA']\n",
        "del data['HTGCRA']\n",
        "del data['ATGRA']\n",
        "del data['ATGCRA']\n"
      ],
      "execution_count": null,
      "outputs": []
    },
    {
      "cell_type": "code",
      "metadata": {
        "id": "H8FgU3nrGUHM",
        "colab": {
          "base_uri": "https://localhost:8080/",
          "height": 204
        },
        "outputId": "84cd6d7f-ca30-4ad7-e4c5-fd9c1bae3018"
      },
      "source": [
        "#Everything should be 0 because these are week 1 games no average has been established.\n",
        "display(data.head())"
      ],
      "execution_count": null,
      "outputs": [
        {
          "output_type": "display_data",
          "data": {
            "text/html": [
              "<div>\n",
              "<style scoped>\n",
              "    .dataframe tbody tr th:only-of-type {\n",
              "        vertical-align: middle;\n",
              "    }\n",
              "\n",
              "    .dataframe tbody tr th {\n",
              "        vertical-align: top;\n",
              "    }\n",
              "\n",
              "    .dataframe thead th {\n",
              "        text-align: right;\n",
              "    }\n",
              "</style>\n",
              "<table border=\"1\" class=\"dataframe\">\n",
              "  <thead>\n",
              "    <tr style=\"text-align: right;\">\n",
              "      <th></th>\n",
              "      <th>FTR</th>\n",
              "      <th>AverageHTGRA</th>\n",
              "      <th>AverageHTGCRA</th>\n",
              "      <th>AverageATGRA</th>\n",
              "      <th>AverageATGCRA</th>\n",
              "    </tr>\n",
              "  </thead>\n",
              "  <tbody>\n",
              "    <tr>\n",
              "      <th>0</th>\n",
              "      <td>A</td>\n",
              "      <td>0.0</td>\n",
              "      <td>0.0</td>\n",
              "      <td>0.0</td>\n",
              "      <td>0.0</td>\n",
              "    </tr>\n",
              "    <tr>\n",
              "      <th>1</th>\n",
              "      <td>H</td>\n",
              "      <td>0.0</td>\n",
              "      <td>0.0</td>\n",
              "      <td>0.0</td>\n",
              "      <td>0.0</td>\n",
              "    </tr>\n",
              "    <tr>\n",
              "      <th>2</th>\n",
              "      <td>H</td>\n",
              "      <td>0.0</td>\n",
              "      <td>0.0</td>\n",
              "      <td>0.0</td>\n",
              "      <td>0.0</td>\n",
              "    </tr>\n",
              "    <tr>\n",
              "      <th>3</th>\n",
              "      <td>A</td>\n",
              "      <td>0.0</td>\n",
              "      <td>0.0</td>\n",
              "      <td>0.0</td>\n",
              "      <td>0.0</td>\n",
              "    </tr>\n",
              "    <tr>\n",
              "      <th>4</th>\n",
              "      <td>A</td>\n",
              "      <td>0.0</td>\n",
              "      <td>0.0</td>\n",
              "      <td>0.0</td>\n",
              "      <td>0.0</td>\n",
              "    </tr>\n",
              "  </tbody>\n",
              "</table>\n",
              "</div>"
            ],
            "text/plain": [
              "  FTR  AverageHTGRA  AverageHTGCRA  AverageATGRA  AverageATGCRA\n",
              "0   A           0.0            0.0           0.0            0.0\n",
              "1   H           0.0            0.0           0.0            0.0\n",
              "2   H           0.0            0.0           0.0            0.0\n",
              "3   A           0.0            0.0           0.0            0.0\n",
              "4   A           0.0            0.0           0.0            0.0"
            ]
          },
          "metadata": {
            "tags": []
          }
        }
      ]
    },
    {
      "cell_type": "code",
      "metadata": {
        "id": "mfNsrjiaGW_v",
        "colab": {
          "base_uri": "https://localhost:8080/"
        },
        "outputId": "b3398267-d1d5-47a6-e815-3dafa1dd2de9"
      },
      "source": [
        "\n",
        "#what is the win rate for the home team?\n",
        "\n",
        "# Total number of matches.\n",
        "n_matches = data.shape[0]\n",
        "\n",
        "# Calculate number of features. -1 because we are saving one as the target variable (win/lose/draw)\n",
        "n_features = data.shape[1] - 1\n",
        "\n",
        "# Calculate matches won by home team.\n",
        "n_homewins = len(data[data.FTR == 'H'])\n",
        "\n",
        "# Calculate win rate for home team.\n",
        "win_rate = (float(n_homewins) / (n_matches)) * 100\n",
        "\n",
        "# Print the results\n",
        "print (\"Total number of matches:\",n_matches)\n",
        "print (\"Number of features:\",n_features)\n",
        "print (\"Number of matches won by home team\",n_homewins)\n",
        "print (\"Win rate of home team:\",win_rate,\"%\")"
      ],
      "execution_count": null,
      "outputs": [
        {
          "output_type": "stream",
          "text": [
            "Total number of matches: 98\n",
            "Number of features: 4\n",
            "Number of matches won by home team 36\n",
            "Win rate of home team: 36.734693877551024 %\n"
          ],
          "name": "stdout"
        }
      ]
    },
    {
      "cell_type": "code",
      "metadata": {
        "id": "dD8owR93GaGq",
        "colab": {
          "base_uri": "https://localhost:8080/",
          "height": 896
        },
        "outputId": "5fe29c0a-a58a-43e9-9581-a8dd62faf453"
      },
      "source": [
        "# Visualising distribution of data\n",
        "from pandas.plotting import scatter_matrix\n",
        "\n",
        "#the scatter matrix is plotting each of the columns specified against each other column.\n",
        "#You would have observed that the diagonal graph is defined as a histogram, which means that in the \n",
        "#section of the plot matrix where the variable is against itself, a histogram is plotted.\n",
        "\n",
        "#Scatter plots show how much one variable is affected by another. \n",
        "#The relationship between two variables is called their correlation\n",
        "#negative vs positive correlation\n",
        "\n",
        "#Average HTGRA - Average home team goals relative to average, how many more or less goals does the home team score against relative to the visiting teams away goals conceded average\n",
        "#Average HTGCRA - Average home team goals conceded relative to average\n",
        "#Average ATGRA - Average away team goals scored relative to average\n",
        "#Average ATGCRA - Average away team goals scored relative to average\n",
        "\n",
        "\n",
        "scatter_matrix(data[['AverageHTGRA','AverageHTGCRA','AverageATGRA','AverageATGCRA']], figsize=(10,10))"
      ],
      "execution_count": null,
      "outputs": [
        {
          "output_type": "execute_result",
          "data": {
            "text/plain": [
              "array([[<matplotlib.axes._subplots.AxesSubplot object at 0x7f5bd82bed68>,\n",
              "        <matplotlib.axes._subplots.AxesSubplot object at 0x7f5bd81a2c88>,\n",
              "        <matplotlib.axes._subplots.AxesSubplot object at 0x7f5bd8153ef0>,\n",
              "        <matplotlib.axes._subplots.AxesSubplot object at 0x7f5bd8110198>],\n",
              "       [<matplotlib.axes._subplots.AxesSubplot object at 0x7f5bd8141400>,\n",
              "        <matplotlib.axes._subplots.AxesSubplot object at 0x7f5bd80f1668>,\n",
              "        <matplotlib.axes._subplots.AxesSubplot object at 0x7f5bd809f8d0>,\n",
              "        <matplotlib.axes._subplots.AxesSubplot object at 0x7f5bd8051b00>],\n",
              "       [<matplotlib.axes._subplots.AxesSubplot object at 0x7f5bd8051b70>,\n",
              "        <matplotlib.axes._subplots.AxesSubplot object at 0x7f5bd8032fd0>,\n",
              "        <matplotlib.axes._subplots.AxesSubplot object at 0x7f5bd7ff12b0>,\n",
              "        <matplotlib.axes._subplots.AxesSubplot object at 0x7f5bd7fa3518>],\n",
              "       [<matplotlib.axes._subplots.AxesSubplot object at 0x7f5bd81002e8>,\n",
              "        <matplotlib.axes._subplots.AxesSubplot object at 0x7f5bd7f7ca90>,\n",
              "        <matplotlib.axes._subplots.AxesSubplot object at 0x7f5bd7f30cf8>,\n",
              "        <matplotlib.axes._subplots.AxesSubplot object at 0x7f5bd7ee3f60>]],\n",
              "      dtype=object)"
            ]
          },
          "metadata": {
            "tags": []
          },
          "execution_count": 15
        },
        {
          "output_type": "display_data",
          "data": {
            "image/png": "[encoded data removed]",
            "text/plain": [
              "<Figure size 720x720 with 16 Axes>"
            ]
          },
          "metadata": {
            "tags": [],
            "needs_background": "light"
          }
        }
      ]
    },
    {
      "cell_type": "code",
      "metadata": {
        "id": "jeH2TEPKHk_O"
      },
      "source": [
        "# Separate into feature set and target variable\n",
        "#FTR = Full Time Result (H=Home Win, D=Draw, A=Away Win)\n",
        "X_all = data.drop(['FTR'],1)\n",
        "y_all = data['FTR']\n",
        "\n",
        "# Standardising the data.\n",
        "from sklearn.preprocessing import scale\n",
        "\n",
        "#Center to the mean and component wise scale to unit variance.\n",
        "cols = [['AverageHTGRA','AverageHTGCRA','AverageATGRA','AverageATGCRA']]\n",
        "for col in cols:\n",
        "    X_all[col] = scale(X_all[col])"
      ],
      "execution_count": null,
      "outputs": []
    },
    {
      "cell_type": "code",
      "metadata": {
        "id": "VZVZtUQEHqQe"
      },
      "source": [
        "from sklearn.model_selection import train_test_split\n",
        "\n",
        "# Shuffle and split the dataset into training and testing set.\n",
        "X_train, X_test, y_train, y_test = train_test_split(X_all, y_all, \n",
        "                                                    test_size = 50,\n",
        "                                                    random_state = 2,\n",
        "                                                    stratify = y_all)"
      ],
      "execution_count": null,
      "outputs": []
    },
    {
      "cell_type": "code",
      "metadata": {
        "id": "ZkN6CUdeHtTf"
      },
      "source": [
        "\n",
        "#for measuring training time\n",
        "from time import time \n",
        "# F1 score (also F-score or F-measure) is a measure of a test's accuracy. \n",
        "#It considers both the precision p and the recall r of the test to compute \n",
        "#the score: p is the number of correct positive results divided by the number of \n",
        "#all positive results, and r is the number of correct positive results divided by \n",
        "#the number of positive results that should have been returned. The F1 score can be \n",
        "#interpreted as a weighted average of the precision and recall, where an F1 score \n",
        "#reaches its best value at 1 and worst at 0.\n",
        "from sklearn.metrics import f1_score\n",
        "\n",
        "def train_classifier(clf, X_train, y_train):\n",
        "    ''' Fits a classifier to the training data. '''\n",
        "    \n",
        "    # Start the clock, train the classifier, then stop the clock\n",
        "    start = time()\n",
        "    clf.fit(X_train, y_train)\n",
        "    end = time()\n",
        "    \n",
        "    # Print the results\n",
        "    print (\"Trained model in\",end - start, \"seconds\")\n",
        "\n",
        "    \n",
        "def predict_labels(clf, features, target):\n",
        "    ''' Makes predictions using a fit classifier based on F1 score. '''\n",
        "    \n",
        "    # Start the clock, make predictions, then stop the clock\n",
        "    start = time()\n",
        "    y_pred = clf.predict(features)\n",
        "    \n",
        "    end = time()\n",
        "    # Print and return results\n",
        "    print (\"Made predictions in\" ,end - start, \"seconds\")\n",
        "    \n",
        "    return f1_score(target, y_pred, pos_label='H',average='micro'), sum(target == y_pred) / float(len(y_pred))\n",
        "\n",
        "\n",
        "def train_predict(clf, X_train, y_train):\n",
        "    ''' Train and predict using a classifer based on F1 score. '''\n",
        "    \n",
        "    # Indicate the classifier and the training set size\n",
        "    print (\"Training a\",clf.__class__.__name__, \"using a training set size of\",len(X_train))\n",
        "    \n",
        "    # Train the classifier\n",
        "    train_classifier(clf, X_train, y_train)\n",
        "    \n",
        "    # Print the results of prediction for both training and testing\n",
        "    f1, acc = predict_labels(clf, X_train, y_train)\n",
        "    print (f1, acc)\n",
        "    print (\"F1 score and accuracy score for training set:\", f1 , acc)\n",
        "\n",
        "    \n",
        "\n",
        "\n",
        "    \n"
      ],
      "execution_count": null,
      "outputs": []
    },
    {
      "cell_type": "code",
      "metadata": {
        "id": "w7lvQY5PHwSW",
        "colab": {
          "base_uri": "https://localhost:8080/"
        },
        "outputId": "b0c9a8ed-4c4d-49b9-eede-bb5ef01af6bd"
      },
      "source": [
        "\n",
        "clf_C = xgb.XGBClassifier(seed = 82)\n",
        "\n",
        "train_predict(clf_C, X_all, y_all)\n",
        "print ('')"
      ],
      "execution_count": null,
      "outputs": [
        {
          "output_type": "stream",
          "text": [
            "Training a XGBClassifier using a training set size of 98\n",
            "Trained model in 0.13350892066955566 seconds\n",
            "Made predictions in 0.00174713134765625 seconds\n",
            "0.9285714285714286 0.9285714285714286\n",
            "F1 score and accuracy score for training set: 0.9285714285714286 0.9285714285714286\n",
            "\n"
          ],
          "name": "stdout"
        },
        {
          "output_type": "stream",
          "text": [
            "/usr/local/lib/python3.6/dist-packages/sklearn/metrics/_classification.py:1321: UserWarning: Note that pos_label (set to 'H') is ignored when average != 'binary' (got 'micro'). You may use labels=[pos_label] to specify a single positive class.\n",
            "  % (pos_label, average), UserWarning)\n"
          ],
          "name": "stderr"
        }
      ]
    },
    {
      "cell_type": "code",
      "metadata": {
        "id": "3GePl0FGIFgQ",
        "colab": {
          "base_uri": "https://localhost:8080/"
        },
        "outputId": "0755b164-82d5-4d07-9dee-4b919ead718f"
      },
      "source": [
        "# TODO: Import 'GridSearchCV' and 'make_scorer'\n",
        "from sklearn.model_selection import GridSearchCV\n",
        "from sklearn.metrics import make_scorer\n",
        "\n",
        "\n",
        "# TODO: Create the parameters list you wish to tune\n",
        "parameters = { 'learning_rate' : [0.1],\n",
        "               'n_estimators' : [40],\n",
        "               'max_depth': [3],\n",
        "               'min_child_weight': [3],\n",
        "               'gamma':[0.4],\n",
        "               'subsample' : [0.8],\n",
        "               'colsample_bytree' : [0.8],\n",
        "               'scale_pos_weight' : [1],\n",
        "               'reg_alpha':[1e-5]\n",
        "             }  \n",
        "\n",
        "# TODO: Initialize the classifier\n",
        "clf = xgb.XGBClassifier(seed=82)\n",
        "\n",
        "# TODO: Make an f1 scoring function using 'make_scorer' \n",
        "f1_scorer = make_scorer(f1_score,pos_label='H',average='micro')\n",
        "\n",
        "# TODO: Perform grid search on the classifier using the f1_scorer as the scoring method\n",
        "grid_obj = GridSearchCV(clf,\n",
        "                        scoring=f1_scorer,\n",
        "                        param_grid=parameters,\n",
        "                        cv=5)\n",
        "\n",
        "# TODO: Fit the grid search object to the training data and find the optimal parameters\n",
        "grid_obj = grid_obj.fit(X_all,y_all)\n",
        "\n",
        "# Get the estimator\n",
        "clf = grid_obj.best_estimator_\n",
        "print (clf)\n",
        "\n",
        "# Report the final F1 score for training and testing after parameter tuning\n",
        "f1, acc = predict_labels(clf, X_all, y_all)\n",
        "print (\"F1 score and accuracy score for training set:\", f1 , acc)\n",
        "    \n"
      ],
      "execution_count": null,
      "outputs": [
        {
          "output_type": "stream",
          "text": [
            "XGBClassifier(base_score=0.5, booster='gbtree', colsample_bylevel=1,\n",
            "              colsample_bynode=1, colsample_bytree=0.8, gamma=0.4,\n",
            "              learning_rate=0.1, max_delta_step=0, max_depth=3,\n",
            "              min_child_weight=3, missing=None, n_estimators=40, n_jobs=1,\n",
            "              nthread=None, objective='multi:softprob', random_state=0,\n",
            "              reg_alpha=1e-05, reg_lambda=1, scale_pos_weight=1, seed=82,\n",
            "              silent=None, subsample=0.8, verbosity=1)\n",
            "Made predictions in 0.0010581016540527344 seconds\n",
            "F1 score and accuracy score for training set: 0.8469387755102041 0.8469387755102041\n"
          ],
          "name": "stdout"
        },
        {
          "output_type": "stream",
          "text": [
            "/usr/local/lib/python3.6/dist-packages/sklearn/metrics/_classification.py:1321: UserWarning: Note that pos_label (set to 'H') is ignored when average != 'binary' (got 'micro'). You may use labels=[pos_label] to specify a single positive class.\n",
            "  % (pos_label, average), UserWarning)\n"
          ],
          "name": "stderr"
        }
      ]
    },
    {
      "cell_type": "code",
      "metadata": {
        "id": "gqpvpQ2AHssP"
      },
      "source": [
        "data2 = pd.read_csv('Cleaning 2018 - Copy of new X.csv')"
      ],
      "execution_count": null,
      "outputs": []
    },
    {
      "cell_type": "code",
      "metadata": {
        "id": "YAS2321yIWnU"
      },
      "source": [
        "X_all2 = data.drop(['FTR'],1)\n",
        "cols = [['AverageHTGRA','AverageHTGCRA','AverageATGRA','AverageATGCRA']]\n",
        "for col in cols:\n",
        "    X_all2[col] = scale(X_all2[col])\n"
      ],
      "execution_count": null,
      "outputs": []
    },
    {
      "cell_type": "code",
      "metadata": {
        "id": "zRu7wQNO4WPp",
        "colab": {
          "base_uri": "https://localhost:8080/"
        },
        "outputId": "fd1398fc-156c-41a6-ff75-fb397d34d724"
      },
      "source": [
        "# fit final model\n",
        "model = xgb.XGBClassifier(seed=82)\n",
        "model.fit(X_all, y_all)\n",
        "# new instances where we do not know the answer\n",
        "\n",
        "# make a prediction\n",
        "ynew = model.predict_proba(X_all2)\n",
        "# show the inputs and predicted probabilities\n",
        "print(ynew)"
      ],
      "execution_count": null,
      "outputs": [
        {
          "output_type": "stream",
          "text": [
            "[[0.19756636 0.3110395  0.49139413]\n",
            " [0.51287293 0.34768555 0.13944149]\n",
            " [0.9734206  0.00513473 0.02144459]\n",
            " [0.3661027  0.12341414 0.51048315]\n",
            " [0.00339399 0.36250493 0.6341011 ]\n",
            " [0.88117915 0.11141326 0.00740761]]\n"
          ],
          "name": "stdout"
        }
      ]
    },
    {
      "cell_type": "code",
      "metadata": {
        "id": "DhfpZEBtIsOh"
      },
      "source": [
        ""
      ],
      "execution_count": null,
      "outputs": []
    }
  ]
}