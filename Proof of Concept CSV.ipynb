{
 "cells": [
  {
   "cell_type": "code",
   "execution_count": 1,
   "metadata": {},
   "outputs": [
    {
     "name": "stdout",
     "output_type": "stream",
     "text": [
      "There were '38' upsets out of '134' total matches\n",
      "Starting bankroll = '500'\n",
      "Finishing bankroll = '1376.25' | ROI = '26.15671641791045'\n"
     ]
    }
   ],
   "source": [
    "import csv\n",
    "\n",
    "csv_file = csv.reader(open('2019_2020.csv'))\n",
    "next(csv_file)\n",
    "\n",
    "upsets = 0\n",
    "non_upsets = 0\t\n",
    "\n",
    "starting_bankroll = 500\t\n",
    "wagering_size = 25\n",
    "\n",
    "bankroll = starting_bankroll\n",
    "\n",
    "for game in csv_file:\n",
    "\thome_team = game[3]\n",
    "\taway_team = game[4]\n",
    "\n",
    "\thome_goals = int(game[5])\n",
    "\taway_goals = int(game[6])\n",
    "\n",
    "\thome_odds = float(game[24])\n",
    "\tdraw_odds = float(game[25])\n",
    "\taway_odds = float(game[26])\n",
    "\n",
    "\tif home_odds > away_odds:\n",
    "\t\tif home_goals > away_goals:\n",
    "\t\t\tupsets += 1\n",
    "\t\t\tbankroll += wagering_size * (home_odds - 1)\n",
    "\t\telse:\n",
    "\t\t\tnon_upsets += 1\n",
    "\t\t\tbankroll -= wagering_size\n",
    "\n",
    "ROI = ((bankroll - starting_bankroll) / (wagering_size * (upsets + non_upsets))) * 100\t\t\n",
    "\n",
    "print (\"There were '%s' upsets out of '%s' total matches\" % (upsets, upsets + non_upsets))\n",
    "print (\"Starting bankroll = '%s'\" % (starting_bankroll))\n",
    "print (\"Finishing bankroll = '%s' | ROI = '%s'\" % (bankroll, ROI))"
   ]
  },
  {
   "cell_type": "code",
   "execution_count": null,
   "metadata": {},
   "outputs": [],
   "source": []
  }
 ],
 "metadata": {
  "kernelspec": {
   "display_name": "Python 3",
   "language": "python",
   "name": "python3"
  },
  "language_info": {
   "codemirror_mode": {
    "name": "ipython",
    "version": 3
   },
   "file_extension": ".py",
   "mimetype": "text/x-python",
   "name": "python",
   "nbconvert_exporter": "python",
   "pygments_lexer": "ipython3",
   "version": "3.8.3"
  }
 },
 "nbformat": 4,
 "nbformat_minor": 4
}
